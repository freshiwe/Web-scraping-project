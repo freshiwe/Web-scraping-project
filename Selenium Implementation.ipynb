{
 "cells": [
  {
   "cell_type": "code",
   "execution_count": 1,
   "id": "86bec3fb-49e3-49d8-89a9-4fcc1ff1e69f",
   "metadata": {},
   "outputs": [],
   "source": [
    "# relevant packages & modules\n",
    "from selenium import webdriver\n",
    "from selenium.webdriver.common.keys import Keys\n",
    "from selenium.webdriver.common.by import By\n",
    "from selenium.webdriver.chrome.options import Options\n",
    "import time"
   ]
  },
  {
   "cell_type": "code",
   "execution_count": 15,
   "id": "da028e52-9c89-4e29-a996-fe27e0b0e260",
   "metadata": {},
   "outputs": [],
   "source": [
    "# relevant websites\n",
    "website_1 = 'https://www.geekbuying.com/search/laptop/'\n",
    "website_2 = 'http://automationpractice.com/index.php'"
   ]
  },
  {
   "cell_type": "code",
   "execution_count": 29,
   "id": "863e9f69-b817-4c4d-953e-e1df2fe0b03f",
   "metadata": {},
   "outputs": [],
   "source": [
    "from selenium import webdriver\n",
    "from selenium.webdriver.edge.service import Service\n",
    "\n",
    "# Specify the path to the Edge WebDriver\n",
    "edge_driver_path = r\"C:\\Users\\muadh\\Downloads\\edgedriver_win64\\msedgedriver.exe\"\n",
    "\n",
    "# Create a Service object with the path to the Edge WebDriver\n",
    "service = Service(edge_driver_path)\n",
    "\n",
    "# Initialize the Edge WebDriver\n",
    "driver = webdriver.Edge(service=service)\n",
    "\n",
    "# Open a webpage to test (optional)\n",
    "driver.get(website_1)\n",
    "\n",
    "driver.maximize_window()\n"
   ]
  },
  {
   "cell_type": "markdown",
   "id": "ee914956-4ad8-41a4-8b27-3d35cf77a9b4",
   "metadata": {},
   "source": [
    "X_path locator"
   ]
  },
  {
   "cell_type": "code",
   "execution_count": 43,
   "id": "45b5f364-ba15-4543-ab74-247ee715f220",
   "metadata": {},
   "outputs": [],
   "source": [
    "# After (using the new method syntax)\n",
    "from selenium.webdriver.common.by import By\n",
    "price = driver.find_element(By.XPATH, '(//li[@class=\"searchResultItem\"]/div/div[3])[1]')"
   ]
  },
  {
   "cell_type": "code",
   "execution_count": 65,
   "id": "972de085-1821-48d7-bb32-486f785da29e",
   "metadata": {},
   "outputs": [
    {
     "name": "stdout",
     "output_type": "stream",
     "text": [
      "$8.99\n"
     ]
    }
   ],
   "source": [
    "# print out the price\n",
    "print(price.text.split()[0])"
   ]
  },
  {
   "cell_type": "code",
   "execution_count": 67,
   "id": "bf6ee8a8-ff53-497d-b47e-06aecaecd58d",
   "metadata": {},
   "outputs": [],
   "source": [
    "prices = driver.find_elements(By.XPATH, '(//li[@class=\"searchResultItem\"]/div/div[3])')"
   ]
  },
  {
   "cell_type": "code",
   "execution_count": 69,
   "id": "b57f2d8b-1b79-4ece-b4f8-1bb219ff7517",
   "metadata": {},
   "outputs": [
    {
     "data": {
      "text/plain": [
       "40"
      ]
     },
     "execution_count": 69,
     "metadata": {},
     "output_type": "execute_result"
    }
   ],
   "source": [
    "len(prices)"
   ]
  },
  {
   "cell_type": "code",
   "execution_count": 77,
   "id": "fa9e9570-bd5c-4ed3-9c23-ac275dda9338",
   "metadata": {},
   "outputs": [
    {
     "name": "stdout",
     "output_type": "stream",
     "text": [
      "$8.99\n",
      "$33.99\n",
      "$887.48\n",
      "$609.14\n",
      "$469.97\n",
      "$8.99\n",
      "$239.99\n",
      "$42.81\n",
      "$359.00\n",
      "$8.99\n",
      "$4.99\n",
      "$4.99\n",
      "$31.99\n",
      "$1015.95\n",
      "$1029.00\n",
      "$18.19\n",
      "$609.14\n",
      "$298.68\n",
      "$29.99\n",
      "$1069.48\n",
      "$1176.53\n",
      "$1422.76\n",
      "$869.00\n",
      "$962.42\n",
      "$29.99\n",
      "$73.99\n",
      "$59.99\n",
      "$4.99\n",
      "$4.99\n",
      "$4.99\n",
      "$4.99\n",
      "$4.99\n",
      "$4.99\n",
      "$41.99\n",
      "$27.99\n",
      "$209.99\n",
      "$36.99\n",
      "$9.62\n",
      "$9.62\n",
      "$8.99\n"
     ]
    }
   ],
   "source": [
    "# print out all price points\n",
    "for p in prices:\n",
    "    print(p.text.split()[0])"
   ]
  },
  {
   "cell_type": "markdown",
   "id": "1e8a65b6-4e25-4fb0-b85a-2f72ae1943ed",
   "metadata": {},
   "source": [
    "Class Name Locator"
   ]
  },
  {
   "cell_type": "code",
   "execution_count": 84,
   "id": "5b1f1f0e-b6b6-413b-b3f2-e0e734dfbd79",
   "metadata": {},
   "outputs": [],
   "source": [
    "names = driver.find_elements(By.CLASS_NAME,'name')"
   ]
  },
  {
   "cell_type": "code",
   "execution_count": 86,
   "id": "346c5b24-c08b-4ad5-ab4b-16163b9eb3b2",
   "metadata": {},
   "outputs": [
    {
     "data": {
      "text/plain": [
       "40"
      ]
     },
     "execution_count": 86,
     "metadata": {},
     "output_type": "execute_result"
    }
   ],
   "source": [
    "len(names)"
   ]
  },
  {
   "cell_type": "code",
   "execution_count": 88,
   "id": "7994a96f-a6ea-4174-9142-bf8487f0d432",
   "metadata": {},
   "outputs": [
    {
     "name": "stdout",
     "output_type": "stream",
     "text": [
      "USB 3.0 SD Card Reader 5Gbps Transmission Speed for TV, , Computer, Camera - Black\n",
      "Baseus 5-in-1 Type-C USB 3.0 HUB Adapter for Laptop Tablet Phone - Gray\n",
      "GPD Pocket 3 Laptop Mini Tablet PC, 8'' 1920x1200 IPS Touchscreen, Intel Core i7-1195G7, 16GB RAM 1TB SSD, Dual-band WiFi Bluetooth 5.0, 2MP Front Camera, 1*Thunderbolt 4 1*HDMI 2.0b 2*USB 3.2 Type-A 1*RJ45, 180° Flip and Rotation - EU Plug\n",
      "GPD Pocket 3 Handheld Laptop, Intel Gold 7505 2 Cores Max 3.5GHz, 8'' 1920*1200 IPS Touchscreen, 16GB RAM 512GB SSD, 10000mAh Battery, WiFi6E Bluetooth5.3, 1*Thunderbolt 4 1*HDMI 2.0b 1*USB 3.2 Gen2 Type-A 2*USB 3.2 Gen1 Type-A 1*RJ45 - EU Plug\n",
      "GXMO F152R7 Laptop, 15.6-inch 1920*1080 IPS FHD Screen, AMD Ryzen7 5700U 8 Cores Up to 4.3GHz, 16GB RAM 1TB SSD, Dual-band WiFi Bluetooth 4.2, 1*Micro SD Card Slot 2*USB 3.0 1*Full Function Type-C 1*Mini HDMI 1*Audio Jack, Fingerprint Unlock\n",
      "USB 3.0 SD Card Reader 5Gbps Transmission Speed for TV, , Computer, Camera - White\n",
      "GTMEDIA MATE X Portable Dual Screen Monitor Laptop Screen Extender for 13-17.3\" , 11.6 inches 1920*1080 IPS Screen, 60Hz Refresh Rate, 178° Viewing Angle, 2*Type-C 1*HDMI 1*USB 2.0 1*3.5mm Headphone Jack\n",
      "ESSAGER 8-in-1 USB Hub, USB Type-C to HDMI, 4K HD Display, 10Gpbs Transmission Speed, 1*USB3.2 1*USB2.0 1*SD Card Slot 1*TF Card Slot, Compatible Dock Station for MacBook Pro, MacBook Air, Support Windows, Linux, iPad OS\n",
      "GPD MicroPC Pocket Laptop Mini PC with Touchpad, 6'' 1280x720 HD WCG Screen, Intel Celeron N4120, 8GB RAM 256GB SSD, 2.4G/5G Dual-band WiFi Bluetooth 4.2, 3*USB 3.0 Type A 1*USB 3.0 Type-C 1*RS-232 1*HDMI 1*RJ45, 2x3100mAh Battery - US Plug\n",
      "USB 2.0 SD Card Reader 5Gbps Transmission Speed for TV, , Computer, Camera - Black\n",
      "Portable USB LED Reading Light with Flexible Arm, Mini Night Lamp for , Desktop - Blue\n",
      "Portable USB LED Reading Light with Flexible Arm, Mini Night Lamp for , Desktop - Black\n",
      "HXSJ S3 1080P HD Webcam 5MP Auto Focus Built-in Microphone Adjustable Angle Support Video Conference For Desktop PC / - Black\n",
      "GPD Win 4 (2024) 6-inch Handheld Game Laptop, AMD Ryzen 7 8840U, 8 Cores Up to 5.1GHz, 32GB RAM 2TB SSD, WiFi 6 Bluetooth 5.2, 1*USB 4 1*Full-featured USB-C 1*Charing Only USB-C 1*Oculink 3*USB 3.2 1*HDMI 1*MicroSD Slot 1*RJ45 - EU Plug\n",
      "For \"Black Myth: Wukong\", GPD Win 4 (2024) 6-inch Handheld Game , AMD Ryzen 7 8840U, 8 Cores Up to 5.1GHz, 32GB RAM 2TB SSD, WiFi 6 Bluetooth 5.2, 1*USB 4 1*Full-featured USB-C 1*Charing Only USB-C 1*Oculink 3*USB 3.2 1*HDMI 1*MicroSD 1*RJ45\n",
      "ESSAGER External Hard Drive Box, Portable SSD Case, NVME SATA Dual Protocol, USB 3.1 / Type-C Interface, Support 4TB Capacity, 10Gbps Data Transfer, for / Desktop / Mac / Mobile Phone / PS5\n",
      "GPD Pocket 3 Handheld Laptop, Intel Gold 7505 2 Cores Max 3.5GHz, 8'' 1920*1200 IPS Touchscreen, 16GB RAM 512GB SSD, 10000mAh Battery, WiFi6E Bluetooth5.3, 1*Thunderbolt 4 1*HDMI 2.0b 1*USB 3.2 Gen2 Type-A 2*USB 3.2 Gen1 Type-A 1*RJ45 - US Plug\n",
      "GXMO Y156N Laptop, 1920*1080 15.6-inch IPS HD Screen, Intel Alder Lake N95 4 Cores Up to 3.4GHz, 16GB RAM 512GB SSD, Dual-band WiFi Bluetooth 4.2, 2*USB 3.0 1*Micro SD Card Slot 1*Mini HDMI 1*Audio Jack, HD Camera, Fingerprint Unlock - EU Plug\n",
      "Type-C Hub 10 in 1 USB C to 4K HDMI+RJ45+PD 100W Charge+USB3.0+VGA+SD/TF card reader Dock for MacBook Windows\n",
      "One Netbook OneXPlayer X1 Mini Handheld Gaming PC, AMD Ryzen 7 8840U 8 Cores Max 5.1GHz, 8.8'' 2560*1600 144Hz LTPS Screen, 32GB LPDDR5x RAM 1TB SSD, 2*USB4 1*USB3.2 1* TF Card Slot 1* Oculink 1*Audio, Harman Sound System, 65.02Wh Battery - US Plug\n",
      "One Netbook OneXPlayer X1 Mini Handheld Gaming PC, AMD Ryzen 7 8840U 8 Cores Max 5.1GHz, 8.8'' 2560*1600 144Hz LTPS Screen, 32GB LPDDR5x RAM 2TB SSD, 2*USB4 1*USB3.2 1* TF Card Slot 1* Oculink 1*Audio, Harman Sound System, 65.02Wh Battery - US Plug\n",
      "One Netbook OneXPlayer X1 Mini Handheld Gaming PC, AMD Ryzen 7 8840U 8 Cores Max 5.1GHz, 8.8'' 2560*1600 144Hz LTPS Screen, 64GB LPDDR5x RAM 2TB SSD, 2*USB4 1*USB3.2 1* TF Card Slot 1* Oculink 1*Audio, Harman Sound System, 65.02Wh Battery - US Plug\n",
      "GPD Pocket 3 Laptop Mini Tablet PC, 8'' 1920x1200 IPS Touchscreen, Intel Core i7-1195G7, 16GB RAM 1TB SSD, Dual-band WiFi Bluetooth 5.0, 2MP Front Camera, 1*Thunderbolt 4 1*HDMI 2.0b 2*USB 3.2 Type-A 1*RJ45, 180° Flip and Rotation - US Plug\n",
      "For \"Black Myth: Wukong\", GPD WIN Mini 7-inch Handheld Game Console, AMD Ryzen 7 8840U, 120Hz, Support VRR, 32GB RAM 512GB SSD, Support USB4 & Graphics Card Expansion Dock, Full-Featured Type-C 65W Charge, 1*MicroSD, 1*USB3.2 Type-C 1*USB3.2 Type-A\n",
      "Logitech Pebble Wireless Mouse Bluetooth 2.4GHz Mute Dual Modes Portable For PC - White\n",
      "Logitech G502 HERO Wired Gaming Mouse 16000DPI With 16.8 millon Backlight For PC / - Black\n",
      "Logitech C270 HD Vid 720P Webcam With MIC Micphone Video Calling for Android TV Box/PC/\n",
      "Portable USB LED Reading Light with Flexible Arm, Mini Night Lamp for , Desktop - Green\n",
      "Portable USB LED Reading Light with Flexible Arm, Mini Night Lamp for , Desktop - Orange\n",
      "Portable USB LED Reading Light with Flexible Arm, Mini Night Lamp for , Desktop - Yellow\n",
      "Portable USB LED Reading Light with Flexible Arm, Mini Night Lamp for , Desktop - Purple\n",
      "Portable USB LED Reading Light with Flexible Arm, Mini Night Lamp for , Desktop - Pink\n",
      "Portable USB LED Reading Light with Flexible Arm, Mini Night Lamp for , Desktop - Red\n",
      "Baseus 8-in-1 Type-C USB 3.0 HUB Adapter for Laptop Tablet Phone - Gray\n",
      "Baseus 4-in-1 Type-C USB 3.0 HUB Adapter for Laptop Tablet Phone - Gray\n",
      "AJAZZ AC081 Hot-swappable Wired Mechanical Gaming Keyboard with Mute Switch Anti-Ghosting for PC\n",
      "Baseus 6-in-1 Type-C USB 3.0 HUB Adapter for Laptop Tablet Phone - Gray\n",
      "8-in-1 Multifunctional Electronic Cleaning Kit, Keyboard Headphones Phone Screen Cleaning Tool - White\n",
      "8-in-1 Multifunctional Electronic Cleaning Kit, Keyboard Headphones Phone Screen Cleaning Tool - Black\n",
      "USB 2.0 SD Card Reader 5Gbps Transmission Speed for TV, , Computer, Camera - White\n"
     ]
    }
   ],
   "source": [
    "for n in names:\n",
    "    print(n.text)"
   ]
  },
  {
   "cell_type": "code",
   "execution_count": 90,
   "id": "9dc1d182-1ee0-44a8-8292-bc5d79480a69",
   "metadata": {},
   "outputs": [],
   "source": [
    "from selenium import webdriver\n",
    "from selenium.webdriver.edge.service import Service\n",
    "\n",
    "# Specify the path to the Edge WebDriver\n",
    "edge_driver_path = r\"C:\\Users\\muadh\\Downloads\\edgedriver_win64\\msedgedriver.exe\"\n",
    "\n",
    "# Create a Service object with the path to the Edge WebDriver\n",
    "service = Service(edge_driver_path)\n",
    "\n",
    "# Initialize the Edge WebDriver\n",
    "driver = webdriver.Edge(service=service)\n",
    "\n",
    "# Open a webpage to test (optional)\n",
    "driver.get(website_2)\n",
    "\n",
    "driver.maximize_window()\n"
   ]
  },
  {
   "cell_type": "markdown",
   "id": "75f2cde9-727e-4830-b21b-1140253c082b",
   "metadata": {},
   "source": [
    "ID Locator"
   ]
  },
  {
   "cell_type": "code",
   "execution_count": null,
   "id": "c0af1abb-5444-44a4-9840-fb0854a4e4a6",
   "metadata": {},
   "outputs": [],
   "source": [
    "search = driver.find_element(By.ID,'search_query_top')\n",
    "\n",
    "#click\n",
    "search.click()\n",
    "time.sleep(1)\n",
    "search.send_keys('hellohello')"
   ]
  },
  {
   "cell_type": "markdown",
   "id": "f7df40b1-1dce-4010-a53a-c6043d2b652d",
   "metadata": {},
   "source": [
    "Name Locator"
   ]
  },
  {
   "cell_type": "code",
   "execution_count": null,
   "id": "cf311268-dc1b-490c-8a57-12ec01af34ec",
   "metadata": {},
   "outputs": [],
   "source": [
    "search_button = driver.find_element(By.NAME,'submit_search')\n",
    "search_button.click()"
   ]
  },
  {
   "cell_type": "markdown",
   "id": "0615d836-30f4-469d-8627-cdf27aa8e4a3",
   "metadata": {},
   "source": [
    "Link Text Locator"
   ]
  },
  {
   "cell_type": "code",
   "execution_count": null,
   "id": "d91ce236-777f-4508-9614-584184a2e9ff",
   "metadata": {},
   "outputs": [],
   "source": [
    "contact = driver.find_element(By.LINK_TEXT,'Contact us')"
   ]
  },
  {
   "cell_type": "code",
   "execution_count": null,
   "id": "99f1bac8-98af-4fd7-a660-dc162579cf84",
   "metadata": {},
   "outputs": [],
   "source": []
  }
 ],
 "metadata": {
  "kernelspec": {
   "display_name": "Python 3 (ipykernel)",
   "language": "python",
   "name": "python3"
  },
  "language_info": {
   "codemirror_mode": {
    "name": "ipython",
    "version": 3
   },
   "file_extension": ".py",
   "mimetype": "text/x-python",
   "name": "python",
   "nbconvert_exporter": "python",
   "pygments_lexer": "ipython3",
   "version": "3.11.7"
  }
 },
 "nbformat": 4,
 "nbformat_minor": 5
}
